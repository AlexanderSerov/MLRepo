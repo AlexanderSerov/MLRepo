{
  "nbformat": 4,
  "nbformat_minor": 0,
  "metadata": {
    "colab": {
      "name": "Keras U-Net OnBoardDetection",
      "provenance": [],
      "collapsed_sections": []
    },
    "kernelspec": {
      "name": "python3",
      "display_name": "Python 3"
    },
    "accelerator": "GPU"
  },
  "cells": [
    {
      "cell_type": "code",
      "metadata": {
        "id": "ZOPMcPkFJ3io",
        "colab_type": "code",
        "colab": {}
      },
      "source": [
        "# !pip install --upgrade tensorflow-gpu==1.14.0"
      ],
      "execution_count": 0,
      "outputs": []
    },
    {
      "cell_type": "code",
      "metadata": {
        "id": "Xf2XYct7Klls",
        "colab_type": "code",
        "outputId": "9c284695-e358-4c95-8369-8681e1a18869",
        "colab": {
          "base_uri": "https://localhost:8080/",
          "height": 34
        }
      },
      "source": [
        "# GPU test\n",
        "import tensorflow as tf\n",
        "device_name = tf.test.gpu_device_name()\n",
        "if device_name != '/device:GPU:0':\n",
        "  raise SystemError('GPU device not found')\n",
        "print('Found GPU at: {}'.format(device_name))"
      ],
      "execution_count": 0,
      "outputs": [
        {
          "output_type": "stream",
          "text": [
            "Found GPU at: /device:GPU:0\n"
          ],
          "name": "stdout"
        }
      ]
    },
    {
      "cell_type": "code",
      "metadata": {
        "id": "yDKY2m_1QH14",
        "colab_type": "code",
        "outputId": "5313affe-44c4-44fd-d2f6-f3386928f729",
        "colab": {
          "base_uri": "https://localhost:8080/",
          "height": 34
        }
      },
      "source": [
        "# Mount drive\n",
        "from google.colab import drive\n",
        "drive.mount('/content/drive')"
      ],
      "execution_count": 0,
      "outputs": [
        {
          "output_type": "stream",
          "text": [
            "Drive already mounted at /content/drive; to attempt to forcibly remount, call drive.mount(\"/content/drive\", force_remount=True).\n"
          ],
          "name": "stdout"
        }
      ]
    },
    {
      "cell_type": "code",
      "metadata": {
        "id": "-dNZTSIBR1Dm",
        "colab_type": "code",
        "outputId": "313890cb-754b-4fa6-c408-c57700a24fb8",
        "colab": {
          "base_uri": "https://localhost:8080/",
          "height": 134
        }
      },
      "source": [
        "ls -al"
      ],
      "execution_count": 0,
      "outputs": [
        {
          "output_type": "stream",
          "text": [
            "total 2807\n",
            "drwx------ 4 root root    4096 Sep 30 08:18  \u001b[0m\u001b[01;34mAugmentedDataset\u001b[0m/\n",
            "drwx------ 2 root root    4096 Apr 15 07:18 \u001b[01;34m'Colab Notebooks'\u001b[0m/\n",
            "-rw------- 1 root root 1428937 Oct  1 11:26 'Copy of UberCab_Dec2008.pdf'\n",
            "drwx------ 2 root root    4096 Feb 23  2019  \u001b[01;34mJokeFactory\u001b[0m/\n",
            "drwx------ 2 root root    4096 Feb 23  2019  \u001b[01;34mLife\u001b[0m/\n",
            "-rw------- 1 root root 1428937 Jun 22 16:22  UberCab_Dec2008.pdf\n"
          ],
          "name": "stdout"
        }
      ]
    },
    {
      "cell_type": "code",
      "metadata": {
        "id": "W36N6V6KENvy",
        "colab_type": "code",
        "outputId": "42d9ff6b-d284-4101-f29c-ab5f9db491fd",
        "colab": {
          "base_uri": "https://localhost:8080/",
          "height": 34
        }
      },
      "source": [
        "cd drive/My\\ Drive/"
      ],
      "execution_count": 0,
      "outputs": [
        {
          "output_type": "stream",
          "text": [
            "/content/drive/My Drive\n"
          ],
          "name": "stdout"
        }
      ]
    },
    {
      "cell_type": "code",
      "metadata": {
        "id": "r-NJeYK9Eg6g",
        "colab_type": "code",
        "colab": {}
      },
      "source": [
        ""
      ],
      "execution_count": 0,
      "outputs": []
    },
    {
      "cell_type": "markdown",
      "metadata": {
        "id": "2bRCPuNwNxEE",
        "colab_type": "text"
      },
      "source": [
        "# Main Part"
      ]
    },
    {
      "cell_type": "code",
      "metadata": {
        "id": "z56EYgc5N0Ax",
        "colab_type": "code",
        "outputId": "abf68555-dcbd-4452-a81d-b048fec20db3",
        "colab": {
          "base_uri": "https://localhost:8080/",
          "height": 34
        }
      },
      "source": [
        "import os\n",
        "import sys\n",
        "import random\n",
        "import warnings\n",
        "\n",
        "import numpy as np\n",
        "import pandas as pd\n",
        "\n",
        "import matplotlib.pyplot as plt\n",
        "\n",
        "from tqdm import tqdm\n",
        "from itertools import chain\n",
        "from skimage.io import imread, imshow, imread_collection, concatenate_images\n",
        "from skimage.transform import resize\n",
        "from skimage.morphology import label\n",
        "\n",
        "from keras.models import Model, load_model\n",
        "from keras.layers import Input\n",
        "from keras.layers.core import Dropout, Lambda\n",
        "from keras.layers.convolutional import Conv2D, Conv2DTranspose\n",
        "from keras.layers.pooling import MaxPooling2D\n",
        "from keras.layers.merge import concatenate\n",
        "from keras.callbacks import EarlyStopping, ModelCheckpoint\n",
        "from keras import backend as K"
      ],
      "execution_count": 0,
      "outputs": [
        {
          "output_type": "stream",
          "text": [
            "Using TensorFlow backend.\n"
          ],
          "name": "stderr"
        }
      ]
    },
    {
      "cell_type": "markdown",
      "metadata": {
        "id": "h4FbypVAO3u6",
        "colab_type": "text"
      },
      "source": [
        "##Define augmentation data generator"
      ]
    },
    {
      "cell_type": "code",
      "metadata": {
        "id": "UquPdJXIO-Sg",
        "colab_type": "code",
        "colab": {}
      },
      "source": [
        "from tensorflow.keras.preprocessing.image import ImageDataGenerator\n",
        "from tensorflow.keras.preprocessing.image import load_img"
      ],
      "execution_count": 0,
      "outputs": []
    },
    {
      "cell_type": "code",
      "metadata": {
        "id": "VmMYUL4cTmvG",
        "colab_type": "code",
        "colab": {}
      },
      "source": [
        "TrainGen = ImageDataGenerator(horizontal_flip=True,\n",
        "                             vertical_flip=True)\n",
        "\n",
        "MaskGen = ImageDataGenerator(horizontal_flip=True,\n",
        "                             vertical_flip=True)"
      ],
      "execution_count": 0,
      "outputs": []
    },
    {
      "cell_type": "code",
      "metadata": {
        "id": "mc-b_GYqTrWU",
        "colab_type": "code",
        "colab": {}
      },
      "source": [
        "MySeed = 1"
      ],
      "execution_count": 0,
      "outputs": []
    },
    {
      "cell_type": "code",
      "metadata": {
        "id": "BKlQsjkOTtb7",
        "colab_type": "code",
        "outputId": "5a560a52-e413-458c-c637-302a2c8ced3b",
        "colab": {
          "base_uri": "https://localhost:8080/",
          "height": 50
        }
      },
      "source": [
        "image_generator = TrainGen.flow_from_directory(\n",
        "    '/content/drive/My Drive/AugmentedDataset/images/',\n",
        "    target_size=(128,128),\n",
        "    class_mode=None,\n",
        "    seed=MySeed)\n",
        "\n",
        "mask_generator = MaskGen.flow_from_directory(\n",
        "    '/content/drive/My Drive/AugmentedDataset/masks/',\n",
        "    target_size=(128,128),\n",
        "    color_mode = 'grayscale',\n",
        "    class_mode=None,\n",
        "    seed=MySeed)"
      ],
      "execution_count": 0,
      "outputs": [
        {
          "output_type": "stream",
          "text": [
            "Found 10 images belonging to 1 classes.\n",
            "Found 10 images belonging to 1 classes.\n"
          ],
          "name": "stdout"
        }
      ]
    },
    {
      "cell_type": "code",
      "metadata": {
        "id": "IXziIlVHLDmo",
        "colab_type": "code",
        "colab": {}
      },
      "source": [
        "train_generator = zip(image_generator, mask_generator)"
      ],
      "execution_count": 0,
      "outputs": []
    },
    {
      "cell_type": "markdown",
      "metadata": {
        "id": "wDBOzFdbVRWW",
        "colab_type": "text"
      },
      "source": [
        "## Build and train neural network"
      ]
    },
    {
      "cell_type": "code",
      "metadata": {
        "id": "pd-kfFJTVTyI",
        "colab_type": "code",
        "outputId": "f01c7fe6-fd9f-43c9-8bfb-4c2d630551e1",
        "colab": {
          "base_uri": "https://localhost:8080/",
          "height": 1000
        }
      },
      "source": [
        "# Build U-Net model\n",
        "inputs = Input((128, 128, 3))\n",
        "s = Lambda(lambda x: x / 255) (inputs)\n",
        "\n",
        "c1 = Conv2D(16, (3, 3), activation='elu', kernel_initializer='he_normal', padding='same') (s)\n",
        "c1 = Dropout(0.1) (c1)\n",
        "c1 = Conv2D(16, (3, 3), activation='elu', kernel_initializer='he_normal', padding='same') (c1)\n",
        "p1 = MaxPooling2D((2, 2)) (c1)\n",
        "\n",
        "c2 = Conv2D(32, (3, 3), activation='elu', kernel_initializer='he_normal', padding='same') (p1)\n",
        "c2 = Dropout(0.1) (c2)\n",
        "c2 = Conv2D(32, (3, 3), activation='elu', kernel_initializer='he_normal', padding='same') (c2)\n",
        "p2 = MaxPooling2D((2, 2)) (c2)\n",
        "\n",
        "c3 = Conv2D(64, (3, 3), activation='elu', kernel_initializer='he_normal', padding='same') (p2)\n",
        "c3 = Dropout(0.2) (c3)\n",
        "c3 = Conv2D(64, (3, 3), activation='elu', kernel_initializer='he_normal', padding='same') (c3)\n",
        "p3 = MaxPooling2D((2, 2)) (c3)\n",
        "\n",
        "c4 = Conv2D(128, (3, 3), activation='elu', kernel_initializer='he_normal', padding='same') (p3)\n",
        "c4 = Dropout(0.2) (c4)\n",
        "c4 = Conv2D(128, (3, 3), activation='elu', kernel_initializer='he_normal', padding='same') (c4)\n",
        "p4 = MaxPooling2D(pool_size=(2, 2)) (c4)\n",
        "\n",
        "c5 = Conv2D(256, (3, 3), activation='elu', kernel_initializer='he_normal', padding='same') (p4)\n",
        "c5 = Dropout(0.3) (c5)\n",
        "c5 = Conv2D(256, (3, 3), activation='elu', kernel_initializer='he_normal', padding='same') (c5)\n",
        "\n",
        "u6 = Conv2DTranspose(128, (2, 2), strides=(2, 2), padding='same') (c5)\n",
        "u6 = concatenate([u6, c4])\n",
        "c6 = Conv2D(128, (3, 3), activation='elu', kernel_initializer='he_normal', padding='same') (u6)\n",
        "c6 = Dropout(0.2) (c6)\n",
        "c6 = Conv2D(128, (3, 3), activation='elu', kernel_initializer='he_normal', padding='same') (c6)\n",
        "\n",
        "u7 = Conv2DTranspose(64, (2, 2), strides=(2, 2), padding='same') (c6)\n",
        "u7 = concatenate([u7, c3])\n",
        "c7 = Conv2D(64, (3, 3), activation='elu', kernel_initializer='he_normal', padding='same') (u7)\n",
        "c7 = Dropout(0.2) (c7)\n",
        "c7 = Conv2D(64, (3, 3), activation='elu', kernel_initializer='he_normal', padding='same') (c7)\n",
        "\n",
        "u8 = Conv2DTranspose(32, (2, 2), strides=(2, 2), padding='same') (c7)\n",
        "u8 = concatenate([u8, c2])\n",
        "c8 = Conv2D(32, (3, 3), activation='elu', kernel_initializer='he_normal', padding='same') (u8)\n",
        "c8 = Dropout(0.1) (c8)\n",
        "c8 = Conv2D(32, (3, 3), activation='elu', kernel_initializer='he_normal', padding='same') (c8)\n",
        "\n",
        "u9 = Conv2DTranspose(16, (2, 2), strides=(2, 2), padding='same') (c8)\n",
        "u9 = concatenate([u9, c1], axis=3)\n",
        "c9 = Conv2D(16, (3, 3), activation='elu', kernel_initializer='he_normal', padding='same') (u9)\n",
        "c9 = Dropout(0.1) (c9)\n",
        "c9 = Conv2D(16, (3, 3), activation='elu', kernel_initializer='he_normal', padding='same') (c9)\n",
        "\n",
        "outputs = Conv2D(1, (1, 1), activation='sigmoid') (c9)\n",
        "\n",
        "model = Model(inputs=[inputs], outputs=[outputs])\n",
        "model.compile(optimizer='adam', loss='binary_crossentropy')\n",
        "model.summary()"
      ],
      "execution_count": 0,
      "outputs": [
        {
          "output_type": "stream",
          "text": [
            "__________________________________________________________________________________________________\n",
            "Layer (type)                    Output Shape         Param #     Connected to                     \n",
            "==================================================================================================\n",
            "input_2 (InputLayer)            (None, 128, 128, 3)  0                                            \n",
            "__________________________________________________________________________________________________\n",
            "lambda_2 (Lambda)               (None, 128, 128, 3)  0           input_2[0][0]                    \n",
            "__________________________________________________________________________________________________\n",
            "conv2d_20 (Conv2D)              (None, 128, 128, 16) 448         lambda_2[0][0]                   \n",
            "__________________________________________________________________________________________________\n",
            "dropout_10 (Dropout)            (None, 128, 128, 16) 0           conv2d_20[0][0]                  \n",
            "__________________________________________________________________________________________________\n",
            "conv2d_21 (Conv2D)              (None, 128, 128, 16) 2320        dropout_10[0][0]                 \n",
            "__________________________________________________________________________________________________\n",
            "max_pooling2d_5 (MaxPooling2D)  (None, 64, 64, 16)   0           conv2d_21[0][0]                  \n",
            "__________________________________________________________________________________________________\n",
            "conv2d_22 (Conv2D)              (None, 64, 64, 32)   4640        max_pooling2d_5[0][0]            \n",
            "__________________________________________________________________________________________________\n",
            "dropout_11 (Dropout)            (None, 64, 64, 32)   0           conv2d_22[0][0]                  \n",
            "__________________________________________________________________________________________________\n",
            "conv2d_23 (Conv2D)              (None, 64, 64, 32)   9248        dropout_11[0][0]                 \n",
            "__________________________________________________________________________________________________\n",
            "max_pooling2d_6 (MaxPooling2D)  (None, 32, 32, 32)   0           conv2d_23[0][0]                  \n",
            "__________________________________________________________________________________________________\n",
            "conv2d_24 (Conv2D)              (None, 32, 32, 64)   18496       max_pooling2d_6[0][0]            \n",
            "__________________________________________________________________________________________________\n",
            "dropout_12 (Dropout)            (None, 32, 32, 64)   0           conv2d_24[0][0]                  \n",
            "__________________________________________________________________________________________________\n",
            "conv2d_25 (Conv2D)              (None, 32, 32, 64)   36928       dropout_12[0][0]                 \n",
            "__________________________________________________________________________________________________\n",
            "max_pooling2d_7 (MaxPooling2D)  (None, 16, 16, 64)   0           conv2d_25[0][0]                  \n",
            "__________________________________________________________________________________________________\n",
            "conv2d_26 (Conv2D)              (None, 16, 16, 128)  73856       max_pooling2d_7[0][0]            \n",
            "__________________________________________________________________________________________________\n",
            "dropout_13 (Dropout)            (None, 16, 16, 128)  0           conv2d_26[0][0]                  \n",
            "__________________________________________________________________________________________________\n",
            "conv2d_27 (Conv2D)              (None, 16, 16, 128)  147584      dropout_13[0][0]                 \n",
            "__________________________________________________________________________________________________\n",
            "max_pooling2d_8 (MaxPooling2D)  (None, 8, 8, 128)    0           conv2d_27[0][0]                  \n",
            "__________________________________________________________________________________________________\n",
            "conv2d_28 (Conv2D)              (None, 8, 8, 256)    295168      max_pooling2d_8[0][0]            \n",
            "__________________________________________________________________________________________________\n",
            "dropout_14 (Dropout)            (None, 8, 8, 256)    0           conv2d_28[0][0]                  \n",
            "__________________________________________________________________________________________________\n",
            "conv2d_29 (Conv2D)              (None, 8, 8, 256)    590080      dropout_14[0][0]                 \n",
            "__________________________________________________________________________________________________\n",
            "conv2d_transpose_5 (Conv2DTrans (None, 16, 16, 128)  131200      conv2d_29[0][0]                  \n",
            "__________________________________________________________________________________________________\n",
            "concatenate_5 (Concatenate)     (None, 16, 16, 256)  0           conv2d_transpose_5[0][0]         \n",
            "                                                                 conv2d_27[0][0]                  \n",
            "__________________________________________________________________________________________________\n",
            "conv2d_30 (Conv2D)              (None, 16, 16, 128)  295040      concatenate_5[0][0]              \n",
            "__________________________________________________________________________________________________\n",
            "dropout_15 (Dropout)            (None, 16, 16, 128)  0           conv2d_30[0][0]                  \n",
            "__________________________________________________________________________________________________\n",
            "conv2d_31 (Conv2D)              (None, 16, 16, 128)  147584      dropout_15[0][0]                 \n",
            "__________________________________________________________________________________________________\n",
            "conv2d_transpose_6 (Conv2DTrans (None, 32, 32, 64)   32832       conv2d_31[0][0]                  \n",
            "__________________________________________________________________________________________________\n",
            "concatenate_6 (Concatenate)     (None, 32, 32, 128)  0           conv2d_transpose_6[0][0]         \n",
            "                                                                 conv2d_25[0][0]                  \n",
            "__________________________________________________________________________________________________\n",
            "conv2d_32 (Conv2D)              (None, 32, 32, 64)   73792       concatenate_6[0][0]              \n",
            "__________________________________________________________________________________________________\n",
            "dropout_16 (Dropout)            (None, 32, 32, 64)   0           conv2d_32[0][0]                  \n",
            "__________________________________________________________________________________________________\n",
            "conv2d_33 (Conv2D)              (None, 32, 32, 64)   36928       dropout_16[0][0]                 \n",
            "__________________________________________________________________________________________________\n",
            "conv2d_transpose_7 (Conv2DTrans (None, 64, 64, 32)   8224        conv2d_33[0][0]                  \n",
            "__________________________________________________________________________________________________\n",
            "concatenate_7 (Concatenate)     (None, 64, 64, 64)   0           conv2d_transpose_7[0][0]         \n",
            "                                                                 conv2d_23[0][0]                  \n",
            "__________________________________________________________________________________________________\n",
            "conv2d_34 (Conv2D)              (None, 64, 64, 32)   18464       concatenate_7[0][0]              \n",
            "__________________________________________________________________________________________________\n",
            "dropout_17 (Dropout)            (None, 64, 64, 32)   0           conv2d_34[0][0]                  \n",
            "__________________________________________________________________________________________________\n",
            "conv2d_35 (Conv2D)              (None, 64, 64, 32)   9248        dropout_17[0][0]                 \n",
            "__________________________________________________________________________________________________\n",
            "conv2d_transpose_8 (Conv2DTrans (None, 128, 128, 16) 2064        conv2d_35[0][0]                  \n",
            "__________________________________________________________________________________________________\n",
            "concatenate_8 (Concatenate)     (None, 128, 128, 32) 0           conv2d_transpose_8[0][0]         \n",
            "                                                                 conv2d_21[0][0]                  \n",
            "__________________________________________________________________________________________________\n",
            "conv2d_36 (Conv2D)              (None, 128, 128, 16) 4624        concatenate_8[0][0]              \n",
            "__________________________________________________________________________________________________\n",
            "dropout_18 (Dropout)            (None, 128, 128, 16) 0           conv2d_36[0][0]                  \n",
            "__________________________________________________________________________________________________\n",
            "conv2d_37 (Conv2D)              (None, 128, 128, 16) 2320        dropout_18[0][0]                 \n",
            "__________________________________________________________________________________________________\n",
            "conv2d_38 (Conv2D)              (None, 128, 128, 1)  17          conv2d_37[0][0]                  \n",
            "==================================================================================================\n",
            "Total params: 1,941,105\n",
            "Trainable params: 1,941,105\n",
            "Non-trainable params: 0\n",
            "__________________________________________________________________________________________________\n"
          ],
          "name": "stdout"
        }
      ]
    },
    {
      "cell_type": "code",
      "metadata": {
        "id": "EkHaIXb1XGfR",
        "colab_type": "code",
        "outputId": "f09ec2eb-8196-4b3f-d55b-a8d07fd4e28b",
        "colab": {
          "base_uri": "https://localhost:8080/",
          "height": 1000
        }
      },
      "source": [
        "# Fit model\n",
        "results = model.fit_generator(train_generator, steps_per_epoch=10, epochs=50)"
      ],
      "execution_count": 0,
      "outputs": [
        {
          "output_type": "stream",
          "text": [
            "Epoch 1/50\n",
            "10/10 [==============================] - 7s 707ms/step - loss: -255.6824\n",
            "Epoch 2/50\n",
            "10/10 [==============================] - 2s 162ms/step - loss: -506.1299\n",
            "Epoch 3/50\n",
            "10/10 [==============================] - 3s 270ms/step - loss: -506.1168\n",
            "Epoch 4/50\n",
            "10/10 [==============================] - 3s 270ms/step - loss: -506.1165\n",
            "Epoch 5/50\n",
            "10/10 [==============================] - 3s 274ms/step - loss: -506.1163\n",
            "Epoch 6/50\n",
            "10/10 [==============================] - 3s 268ms/step - loss: -506.1164\n",
            "Epoch 7/50\n",
            "10/10 [==============================] - 3s 271ms/step - loss: -506.1164\n",
            "Epoch 8/50\n",
            "10/10 [==============================] - 3s 272ms/step - loss: -506.1163\n",
            "Epoch 9/50\n",
            "10/10 [==============================] - 3s 268ms/step - loss: -506.1164\n",
            "Epoch 10/50\n",
            "10/10 [==============================] - 3s 270ms/step - loss: -506.1163\n",
            "Epoch 11/50\n",
            "10/10 [==============================] - 3s 268ms/step - loss: -506.1163\n",
            "Epoch 12/50\n",
            "10/10 [==============================] - 3s 269ms/step - loss: -506.1163\n",
            "Epoch 13/50\n",
            "10/10 [==============================] - 3s 275ms/step - loss: -506.1163\n",
            "Epoch 14/50\n",
            "10/10 [==============================] - 3s 269ms/step - loss: -506.1164\n",
            "Epoch 15/50\n",
            "10/10 [==============================] - 3s 266ms/step - loss: -506.1164\n",
            "Epoch 16/50\n",
            "10/10 [==============================] - 3s 270ms/step - loss: -506.1163\n",
            "Epoch 17/50\n",
            "10/10 [==============================] - 3s 270ms/step - loss: -506.1163\n",
            "Epoch 18/50\n",
            "10/10 [==============================] - 3s 270ms/step - loss: -506.1163\n",
            "Epoch 19/50\n",
            "10/10 [==============================] - 3s 270ms/step - loss: -506.1163\n",
            "Epoch 20/50\n",
            "10/10 [==============================] - 3s 272ms/step - loss: -506.1163\n",
            "Epoch 21/50\n",
            "10/10 [==============================] - 3s 269ms/step - loss: -506.1164\n",
            "Epoch 22/50\n",
            "10/10 [==============================] - 3s 269ms/step - loss: -506.1164\n",
            "Epoch 23/50\n",
            "10/10 [==============================] - 3s 267ms/step - loss: -506.1163\n",
            "Epoch 24/50\n",
            "10/10 [==============================] - 3s 270ms/step - loss: -506.1164\n",
            "Epoch 25/50\n",
            "10/10 [==============================] - 3s 272ms/step - loss: -506.1164\n",
            "Epoch 26/50\n",
            "10/10 [==============================] - 3s 269ms/step - loss: -506.1164\n",
            "Epoch 27/50\n",
            "10/10 [==============================] - 3s 270ms/step - loss: -506.1163\n",
            "Epoch 28/50\n",
            "10/10 [==============================] - 3s 271ms/step - loss: -506.1163\n",
            "Epoch 29/50\n",
            "10/10 [==============================] - 3s 272ms/step - loss: -506.1164\n",
            "Epoch 30/50\n",
            "10/10 [==============================] - 3s 269ms/step - loss: -506.1164\n",
            "Epoch 31/50\n",
            "10/10 [==============================] - 3s 269ms/step - loss: -506.1164\n",
            "Epoch 32/50\n",
            "10/10 [==============================] - 3s 268ms/step - loss: -506.1163\n",
            "Epoch 33/50\n",
            "10/10 [==============================] - 3s 266ms/step - loss: -506.1164\n",
            "Epoch 34/50\n",
            "10/10 [==============================] - 3s 271ms/step - loss: -506.1164\n",
            "Epoch 35/50\n",
            "10/10 [==============================] - 3s 275ms/step - loss: -506.1164\n",
            "Epoch 36/50\n",
            "10/10 [==============================] - 3s 268ms/step - loss: -506.1163\n",
            "Epoch 37/50\n",
            "10/10 [==============================] - 3s 269ms/step - loss: -506.1164\n",
            "Epoch 38/50\n",
            "10/10 [==============================] - 3s 270ms/step - loss: -506.1163\n",
            "Epoch 39/50\n",
            "10/10 [==============================] - 3s 269ms/step - loss: -506.1163\n",
            "Epoch 40/50\n",
            "10/10 [==============================] - 3s 270ms/step - loss: -506.1164\n",
            "Epoch 41/50\n",
            "10/10 [==============================] - 3s 270ms/step - loss: -506.1164\n",
            "Epoch 42/50\n",
            "10/10 [==============================] - 3s 270ms/step - loss: -506.1163\n",
            "Epoch 43/50\n",
            "10/10 [==============================] - 3s 268ms/step - loss: -506.1164\n",
            "Epoch 44/50\n",
            "10/10 [==============================] - 3s 273ms/step - loss: -506.1163\n",
            "Epoch 45/50\n",
            "10/10 [==============================] - 3s 271ms/step - loss: -506.1163\n",
            "Epoch 46/50\n",
            "10/10 [==============================] - 3s 271ms/step - loss: -506.1164\n",
            "Epoch 47/50\n",
            "10/10 [==============================] - 3s 273ms/step - loss: -506.1164\n",
            "Epoch 48/50\n",
            "10/10 [==============================] - 3s 275ms/step - loss: -506.1164\n",
            "Epoch 49/50\n",
            "10/10 [==============================] - 3s 268ms/step - loss: -506.1163\n",
            "Epoch 50/50\n",
            "10/10 [==============================] - 3s 268ms/step - loss: -506.1164\n"
          ],
          "name": "stdout"
        }
      ]
    },
    {
      "cell_type": "code",
      "metadata": {
        "id": "p9OnbcTZlS7H",
        "colab_type": "code",
        "colab": {}
      },
      "source": [
        ""
      ],
      "execution_count": 0,
      "outputs": []
    },
    {
      "cell_type": "markdown",
      "metadata": {
        "id": "-CRVCCQdllvM",
        "colab_type": "text"
      },
      "source": [
        "##Make predictions\n"
      ]
    },
    {
      "cell_type": "code",
      "metadata": {
        "id": "rGJ5ie8Rlnog",
        "colab_type": "code",
        "colab": {}
      },
      "source": [
        "train = next(image_generator)"
      ],
      "execution_count": 0,
      "outputs": []
    },
    {
      "cell_type": "code",
      "metadata": {
        "id": "xK3-j_JvtH6V",
        "colab_type": "code",
        "outputId": "801345b3-b941-490d-f982-39214e79955d",
        "colab": {
          "base_uri": "https://localhost:8080/",
          "height": 34
        }
      },
      "source": [
        "train.dtype"
      ],
      "execution_count": 0,
      "outputs": [
        {
          "output_type": "execute_result",
          "data": {
            "text/plain": [
              "dtype('uint8')"
            ]
          },
          "metadata": {
            "tags": []
          },
          "execution_count": 47
        }
      ]
    },
    {
      "cell_type": "code",
      "metadata": {
        "id": "FM-KRmIMtH3s",
        "colab_type": "code",
        "colab": {}
      },
      "source": [
        ""
      ],
      "execution_count": 0,
      "outputs": []
    },
    {
      "cell_type": "code",
      "metadata": {
        "id": "ZUDLm962nEZZ",
        "colab_type": "code",
        "colab": {}
      },
      "source": [
        "train = train.astype(np.uint8)"
      ],
      "execution_count": 0,
      "outputs": []
    },
    {
      "cell_type": "code",
      "metadata": {
        "id": "0HQPv4acmchr",
        "colab_type": "code",
        "outputId": "8c595257-8832-4d06-8dd4-e9ff0a46daad",
        "colab": {
          "base_uri": "https://localhost:8080/",
          "height": 34
        }
      },
      "source": [
        "train.dtype"
      ],
      "execution_count": 0,
      "outputs": [
        {
          "output_type": "execute_result",
          "data": {
            "text/plain": [
              "dtype('uint8')"
            ]
          },
          "metadata": {
            "tags": []
          },
          "execution_count": 29
        }
      ]
    },
    {
      "cell_type": "code",
      "metadata": {
        "id": "Z2_WQiHEmo7O",
        "colab_type": "code",
        "outputId": "797e0fe7-6c25-4498-effc-08c75c47ea58",
        "colab": {
          "base_uri": "https://localhost:8080/",
          "height": 286
        }
      },
      "source": [
        "plt.imshow(train[2])"
      ],
      "execution_count": 0,
      "outputs": [
        {
          "output_type": "execute_result",
          "data": {
            "text/plain": [
              "<matplotlib.image.AxesImage at 0x7facc745c320>"
            ]
          },
          "metadata": {
            "tags": []
          },
          "execution_count": 48
        },
        {
          "output_type": "display_data",
          "data": {
            "image/png": "[encoded data removed]",
            "text/plain": [
              "<Figure size 432x288 with 1 Axes>"
            ]
          },
          "metadata": {
            "tags": []
          }
        }
      ]
    },
    {
      "cell_type": "code",
      "metadata": {
        "id": "VqnIgasHnTbD",
        "colab_type": "code",
        "colab": {}
      },
      "source": [
        "predicted = model.predict(np.expand_dims(train[2], axis=0))"
      ],
      "execution_count": 0,
      "outputs": []
    },
    {
      "cell_type": "code",
      "metadata": {
        "id": "N0RjvkzNqlZn",
        "colab_type": "code",
        "outputId": "a81ff219-345f-495e-9931-ba603267c655",
        "colab": {
          "base_uri": "https://localhost:8080/",
          "height": 34
        }
      },
      "source": [
        "set(np.squeeze(predicted).flat)"
      ],
      "execution_count": 0,
      "outputs": [
        {
          "output_type": "execute_result",
          "data": {
            "text/plain": [
              "{1.0}"
            ]
          },
          "metadata": {
            "tags": []
          },
          "execution_count": 46
        }
      ]
    },
    {
      "cell_type": "code",
      "metadata": {
        "id": "jZoYgHE6rFpf",
        "colab_type": "code",
        "outputId": "378624ea-20ea-4865-9ea7-ff25f6146dae",
        "colab": {
          "base_uri": "https://localhost:8080/",
          "height": 286
        }
      },
      "source": [
        "plt.imshow(np.squeeze(predicted))"
      ],
      "execution_count": 0,
      "outputs": [
        {
          "output_type": "execute_result",
          "data": {
            "text/plain": [
              "<matplotlib.image.AxesImage at 0x7fa8d116a550>"
            ]
          },
          "metadata": {
            "tags": []
          },
          "execution_count": 47
        },
        {
          "output_type": "display_data",
          "data": {
            "image/png": "[encoded data removed]",
            "text/plain": [
              "<Figure size 432x288 with 1 Axes>"
            ]
          },
          "metadata": {
            "tags": []
          }
        }
      ]
    }
  ]
}