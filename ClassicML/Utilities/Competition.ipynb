{
 "cells": [
  {
   "cell_type": "markdown",
   "metadata": {},
   "source": [
    "# Sequence recovery\n",
    "## ababa - 2\n"
   ]
  },
  {
   "cell_type": "code",
   "execution_count": 4,
   "metadata": {},
   "outputs": [],
   "source": [
    "def UnitTest():\n",
    "    NativeTests = [\n",
    "        ('abcaa', 4),\n",
    "        ('aaaab', 5),\n",
    "        ('ababa', 2),\n",
    "        ('ababacabab', 6),\n",
    "        ('ababaccdd', 9),\n",
    "        ('abcdab', 4),\n",
    "        ('cdffcd', 4),\n",
    "        ('ddrd', 3)\n",
    "    ]\n",
    "    PoundTests = [\n",
    "        ('a#b#a', 3),\n",
    "        ('######', 1),\n",
    "        ('ab#ba', 2),\n",
    "        ('a#baa', 3),\n",
    "        ('#b#baccdd', 8),\n",
    "        ('#b#c', 3),\n",
    "        ('###abcd', 4),\n",
    "        ('c###abdd', 8),\n",
    "        ('####a', 1),\n",
    "        ('####ab', 2),\n",
    "        ('c#######ab##', 5),\n",
    "        ('cdff##', 4),\n",
    "        ('a#a#a#', 1),\n",
    "        ('####abc', 3),\n",
    "        ('d##zea#d', 6),\n",
    "        ('d##zea#agz', 6),\n",
    "        ('zea######zea####ze', 6),\n",
    "        ('ab##ab#a', 4)\n",
    "    ]\n",
    "    \n",
    "    print('Symbols', 'Answer', 'Decision', sep = '\\t',end='\\n\\n')\n",
    "    \n",
    "    print('***Native tests***')\n",
    "    for test in NativeTests:\n",
    "        Result = Solution(test[0])\n",
    "        print(test[0], Result, Result == test[1],sep = '\\t')\n",
    "        \n",
    "    print('\\n***Pound tests***')\n",
    "    for test in PoundTests:\n",
    "        Result = Solution(test[0])\n",
    "        print(test[0], Result, Result == test[1],sep = '\\t')"
   ]
  },
  {
   "cell_type": "code",
   "execution_count": 13,
   "metadata": {},
   "outputs": [],
   "source": [
    "def Solution(Symbols):\n",
    "    # def checkEqual(iterator):\n",
    "    #     return len(set(iterator)) <= 1  \n",
    "\n",
    "    def checkEqual(iterator):\n",
    "        FirstSym = iterator[0]\n",
    "\n",
    "        # breakpoint()\n",
    "        for batch in iterator:\n",
    "            for i, char in enumerate(FirstSym):\n",
    "                if FirstSym[i] == '#' or batch[i] == '#':\n",
    "                    continue\n",
    "                elif FirstSym[i] != batch[i]:\n",
    "                    return False\n",
    "\n",
    "        return True\n",
    "\n",
    "    # input()\n",
    "    # Symbols = input()\n",
    "\n",
    "    Symbols = Symbols.strip('#')\n",
    "    L = len(Symbols)\n",
    "    Result = L if L != 0 else 1\n",
    "\n",
    "    for n in range(1, L):\n",
    "\n",
    "        SubStr = [(Symbols[i:i+n]) for i in range(0, L, n)]\n",
    "\n",
    "        if (checkEqual(SubStr[:-1])) and (checkEqual([SubStr[0][:len(SubStr[-1])], SubStr[-1]])):\n",
    "            Result = len(SubStr[0])\n",
    "            break\n",
    "\n",
    "    # print(Result)\n",
    "    return Result"
   ]
  },
  {
   "cell_type": "code",
   "execution_count": 14,
   "metadata": {},
   "outputs": [
    {
     "name": "stdout",
     "output_type": "stream",
     "text": [
      "Symbols\tAnswer\tDecision\n",
      "\n",
      "***Native tests***\n",
      "abcaa\t4\tTrue\n",
      "aaaab\t5\tTrue\n",
      "ababa\t2\tTrue\n",
      "ababacabab\t6\tTrue\n",
      "ababaccdd\t9\tTrue\n",
      "abcdab\t4\tTrue\n",
      "cdffcd\t4\tTrue\n",
      "ddrd\t3\tTrue\n",
      "\n",
      "***Pound tests***\n",
      "a#b#a\t3\tTrue\n",
      "######\t1\tTrue\n",
      "ab#ba\t2\tTrue\n",
      "a#baa\t3\tTrue\n",
      "#b#baccdd\t8\tTrue\n",
      "#b#c\t3\tTrue\n",
      "###abcd\t4\tTrue\n",
      "c###abdd\t8\tTrue\n",
      "####a\t1\tTrue\n",
      "####ab\t2\tTrue\n",
      "c#######ab##\t5\tTrue\n",
      "cdff##\t4\tTrue\n",
      "a#a#a#\t1\tTrue\n",
      "####abc\t3\tTrue\n",
      "d##zea#d\t6\tTrue\n",
      "d##zea#agz\t6\tTrue\n",
      "zea######zea####ze\t6\tTrue\n",
      "ab##ab#a\t4\tTrue\n"
     ]
    }
   ],
   "source": [
    "UnitTest()"
   ]
  },
  {
   "cell_type": "markdown",
   "metadata": {},
   "source": [
    "# B. Optimal recomendation tape"
   ]
  },
  {
   "cell_type": "code",
   "execution_count": null,
   "metadata": {},
   "outputs": [],
   "source": []
  }
 ],
 "metadata": {
  "kernelspec": {
   "display_name": "Python 3",
   "language": "python",
   "name": "python3"
  },
  "language_info": {
   "codemirror_mode": {
    "name": "ipython",
    "version": 3
   },
   "file_extension": ".py",
   "mimetype": "text/x-python",
   "name": "python",
   "nbconvert_exporter": "python",
   "pygments_lexer": "ipython3",
   "version": "3.7.5"
  }
 },
 "nbformat": 4,
 "nbformat_minor": 2
}
