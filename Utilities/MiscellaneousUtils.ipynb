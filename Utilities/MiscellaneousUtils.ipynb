{
 "cells": [
  {
   "cell_type": "markdown",
   "metadata": {},
   "source": [
    "## Files Rename script"
   ]
  },
  {
   "cell_type": "code",
   "execution_count": null,
   "metadata": {},
   "outputs": [],
   "source": [
    "import os"
   ]
  },
  {
   "cell_type": "code",
   "execution_count": null,
   "metadata": {},
   "outputs": [],
   "source": [
    "os.getcwd()"
   ]
  },
  {
   "cell_type": "code",
   "execution_count": null,
   "metadata": {},
   "outputs": [],
   "source": [
    "os.chdir(folder)"
   ]
  },
  {
   "cell_type": "code",
   "execution_count": null,
   "metadata": {},
   "outputs": [],
   "source": [
    "for idx, filename in enumerate(onlyfiles, 1): \n",
    "    dst =\"train_image\" + str(idx) + \".jpg\"\n",
    "    os.rename(filename, dst) "
   ]
  },
  {
   "cell_type": "markdown",
   "metadata": {},
   "source": [
    "## Files coping"
   ]
  },
  {
   "cell_type": "code",
   "execution_count": null,
   "metadata": {},
   "outputs": [],
   "source": [
    "from shutil import copy2"
   ]
  },
  {
   "cell_type": "code",
   "execution_count": null,
   "metadata": {},
   "outputs": [],
   "source": [
    "for x in tqdm(range(1, 11)):\n",
    "    file = next(os.walk('C:/Users/cah4e/Desktop/BottomDataset/train/train_image{0}/image/'.format(x)))[2]\n",
    "    copy2('C:/Users/cah4e/Desktop/BottomDataset/train/train_image{0}/image/{1}'.format(x, file[0]), \n",
    "         'C:/Users/cah4e/Desktop/BottomDataset/train/AugmentedDataset/images/subdirectory/image{0}.png'.format(x))"
   ]
  },
  {
   "cell_type": "code",
   "execution_count": null,
   "metadata": {},
   "outputs": [],
   "source": [
    "# The same for masks\n",
    "\n",
    "for x in tqdm(range(1, 11)):\n",
    "    file = next(os.walk('C:/Users/cah4e/Desktop/BottomDataset/train/train_image{0}/mask/'.format(x)))[2]\n",
    "    copy2('C:/Users/cah4e/Desktop/BottomDataset/train/train_image{0}/mask/{1}'.format(x, file[0]), \n",
    "         'C:/Users/cah4e/Desktop/BottomDataset/train/AugmentedDataset/masks/subdirectory/mask{0}.png'.format(x))"
   ]
  }
 ],
 "metadata": {
  "kernelspec": {
   "display_name": "Python [conda env:Python3.6]",
   "language": "python",
   "name": "conda-env-Python3.6-py"
  },
  "language_info": {
   "codemirror_mode": {
    "name": "ipython",
    "version": 3
   },
   "file_extension": ".py",
   "mimetype": "text/x-python",
   "name": "python",
   "nbconvert_exporter": "python",
   "pygments_lexer": "ipython3",
   "version": "3.6.9"
  }
 },
 "nbformat": 4,
 "nbformat_minor": 2
}
