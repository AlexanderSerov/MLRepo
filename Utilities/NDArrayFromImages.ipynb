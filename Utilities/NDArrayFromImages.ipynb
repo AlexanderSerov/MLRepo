{
 "cells": [
  {
   "cell_type": "code",
   "execution_count": 1,
   "metadata": {},
   "outputs": [],
   "source": [
    "import numpy as np\n",
    "import matplotlib.pyplot as plt\n",
    "\n",
    "import os\n",
    "from IPython.display import display\n",
    "from PIL import Image\n",
    "from PIL import ImageChops"
   ]
  },
  {
   "cell_type": "code",
   "execution_count": 9,
   "metadata": {},
   "outputs": [],
   "source": [
    "folder = \"./Digits/\"\n",
    "\n",
    "onlyfiles = [f for f in os.listdir(folder) if os.path.isfile(os.path.join(folder, f))]"
   ]
  },
  {
   "cell_type": "code",
   "execution_count": 10,
   "metadata": {},
   "outputs": [],
   "source": [
    "# Get labels from titles\n",
    "y_train = []\n",
    "\n",
    "for _file in onlyfiles:\n",
    "    y_train.append(int(_file[0]))"
   ]
  },
  {
   "cell_type": "code",
   "execution_count": 25,
   "metadata": {},
   "outputs": [],
   "source": [
    "from tensorflow.keras.preprocessing.image import load_img\n",
    "\n",
    "# Output dimensions\n",
    "image_width = 28\n",
    "image_height = 28\n",
    "\n",
    "x_train = np.ndarray(shape=(len(onlyfiles), image_height, image_width))\n",
    "\n",
    "for idx, _file in enumerate(onlyfiles):\n",
    "    img = load_img(folder + \"/\" + _file, color_mode=\"grayscale\")  # this is a PIL image\n",
    "    img = img.resize((image_width, image_height))\n",
    "    # Or img.thumnail((image_width, image_height))\n",
    "    img = ImageChops.invert(img)\n",
    "\n",
    "    # Convert to Numpy array and save to x_train\n",
    "    x_train[idx] = np.asarray(img)"
   ]
  },
  {
   "cell_type": "code",
   "execution_count": 30,
   "metadata": {},
   "outputs": [
    {
     "data": {
      "text/plain": [
       "<matplotlib.image.AxesImage at 0xcc64438>"
      ]
     },
     "execution_count": 30,
     "metadata": {},
     "output_type": "execute_result"
    },
    {
     "data": {
      "image/png": "[encoded data removed]",
      "text/plain": [
       "<Figure size 432x288 with 1 Axes>"
      ]
     },
     "metadata": {
      "needs_background": "light"
     },
     "output_type": "display_data"
    }
   ],
   "source": [
    "plt.imshow(x_train[4],cmap='binary')"
   ]
  },
  {
   "cell_type": "code",
   "execution_count": 31,
   "metadata": {},
   "outputs": [],
   "source": [
    "# Save prepared data\n",
    "# np.savez_compressed('DigitsDataset', x_train=x_train, y_train=y_train)\n",
    "\n",
    "# For loading use np.load() method\n",
    "# For saving to directory use img.save(_file)"
   ]
  }
 ],
 "metadata": {
  "colab": {
   "name": "BasicClassification.ipynb",
   "provenance": [],
   "version": "0.3.2"
  },
  "kernelspec": {
   "display_name": "Python [conda env:Python3.6]",
   "language": "python",
   "name": "conda-env-Python3.6-py"
  },
  "language_info": {
   "codemirror_mode": {
    "name": "ipython",
    "version": 3
   },
   "file_extension": ".py",
   "mimetype": "text/x-python",
   "name": "python",
   "nbconvert_exporter": "python",
   "pygments_lexer": "ipython3",
   "version": "3.6.8"
  }
 },
 "nbformat": 4,
 "nbformat_minor": 1
}
