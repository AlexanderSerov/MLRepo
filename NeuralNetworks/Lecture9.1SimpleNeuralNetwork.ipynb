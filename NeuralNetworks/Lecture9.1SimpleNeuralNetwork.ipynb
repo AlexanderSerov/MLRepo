{
 "cells": [
  {
   "cell_type": "markdown",
   "metadata": {},
   "source": [
    "<h1>Intro</h1>\n",
    "\n",
    "This notebook implements simle neural network. Let’s say there is a 4 button machine that gives you food if you press the right button, the objective will be to learn which button provides the goods\n",
    "\n",
    "<img src=\"./Lecture9.1SimpleNeuralNetwork.jpeg\" align=\"left\" height=\"500\" width=\"450\">\n",
    "<img src=\"./Lecture9.1ChickenDinerDetection.jpeg\" align=\"left\" height=\"500\" width=\"500\">\n",
    "\n"
   ]
  },
  {
   "cell_type": "code",
   "execution_count": 1,
   "metadata": {},
   "outputs": [],
   "source": [
    "# Import libs\n",
    "import numpy as np\n",
    "import pandas as pd\n",
    "\n",
    "def sigmoid(x):\n",
    "    return 1/(1+np.e**(-x))"
   ]
  },
  {
   "cell_type": "code",
   "execution_count": 2,
   "metadata": {},
   "outputs": [],
   "source": [
    "# Chicken neural network class\n",
    "class ChickenNeuralNetwork:\n",
    "    \n",
    "    def __init__(self, TrainData):\n",
    "        \n",
    "        self.weights = np.random.randn(TrainData.shape[1])\n",
    "        \n",
    "    def fit(self, X, y):\n",
    "        \n",
    "        #Training\n",
    "        for epoch in range(15):\n",
    "            for row, label in zip(X.values, y):\n",
    "                prediction = self.FeedForward(row)\n",
    "                cost = self.CostFunction(prediction, label)\n",
    "                self.weights += cost * row * 0.4\n",
    "                \n",
    "    def FeedForward(self, X):\n",
    "        return np.sum(X * self.weights)\n",
    "    \n",
    "    def CostFunction(self, hypothesis, y):\n",
    "        return y - hypothesis    "
   ]
  },
  {
   "cell_type": "code",
   "execution_count": 3,
   "metadata": {},
   "outputs": [],
   "source": [
    "# Prepare dataset\n",
    "X = np.array([[1,0,0,0],[0,1,0,0],[0,0,1,0],[0,0,0,1]])\n",
    "y = np.array([0,0,1,0])\n",
    "df = pd.DataFrame(X, columns=['button_1','button_2','button_3','button_4'])"
   ]
  },
  {
   "cell_type": "code",
   "execution_count": 4,
   "metadata": {},
   "outputs": [
    {
     "name": "stdout",
     "output_type": "stream",
     "text": [
      "0.9993514457975039\n",
      "-0.0001964504480991362\n"
     ]
    }
   ],
   "source": [
    "# Main code\n",
    "NN = ChickenNeuralNetwork(df)\n",
    "NN.fit(df,y)\n",
    "\n",
    "#Test\n",
    "print(NN.FeedForward([0,0,1,0]))\n",
    "print(NN.FeedForward([0,0,0,1]))"
   ]
  }
 ],
 "metadata": {
  "kernelspec": {
   "display_name": "Python 3",
   "language": "python",
   "name": "python3"
  },
  "language_info": {
   "codemirror_mode": {
    "name": "ipython",
    "version": 3
   },
   "file_extension": ".py",
   "mimetype": "text/x-python",
   "name": "python",
   "nbconvert_exporter": "python",
   "pygments_lexer": "ipython3",
   "version": "3.7.2"
  }
 },
 "nbformat": 4,
 "nbformat_minor": 2
}
